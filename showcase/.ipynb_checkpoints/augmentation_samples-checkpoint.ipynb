{
 "cells": [
  {
   "cell_type": "code",
   "execution_count": 1,
   "metadata": {},
   "outputs": [],
   "source": [
    "from dataset import FungusDataset\n",
    "import torch\n",
    "from matplotlib import pyplot as plt\n",
    "from dataset.normalization import get_normalization_transform, denormalize\n",
    "from torchvision.transforms import Compose, Lambda\n",
    "from util.augmentation import *\n",
    "import numpy as np\n",
    "import os\n",
    "os.chdir('..')"
   ]
  },
  {
   "cell_type": "code",
   "execution_count": 2,
   "metadata": {},
   "outputs": [],
   "source": [
    "augmentation = Compose([\n",
    "    #NumpyRotation(),\n",
    "    NumpyVerticalFlip(),\n",
    "    NumpyHorizontalFlip(),\n",
    "    NumpyAffineTransform(scale=(0.8, 1.2), shear=(np.deg2rad(-15), np.deg2rad(15))),\n",
    "])\n",
    "\n",
    "sigma = 0.01\n",
    "transform = Compose([\n",
    "    NumpyGaussianNoise(sigma=sigma),\n",
    "    NumpyToTensor(),\n",
    "    get_normalization_transform(),\n",
    "])\n",
    "\n",
    "dataset = FungusDataset(\n",
    "    imgs_dir='/mnt/drive/preprocessed/',\n",
    "    masks_dir='/mnt/ssd/fungus/masks_2_3/',\n",
    "    random_crop_size=250,\n",
    "    number_of_fg_slices_per_image=16,\n",
    "    number_of_bg_slices_per_image=1,\n",
    "    train=True,\n",
    "    transform=transform,\n",
    "    prescale=0.5,\n",
    "    augmentation=augmentation)"
   ]
  },
  {
   "cell_type": "code",
   "execution_count": 3,
   "metadata": {},
   "outputs": [],
   "source": [
    "loader = torch.utils.data.DataLoader(\n",
    "    dataset,\n",
    "    batch_size=1,\n",
    "    shuffle=True,\n",
    "    num_workers=0)"
   ]
  },
  {
   "cell_type": "code",
   "execution_count": null,
   "metadata": {
    "scrolled": true
   },
   "outputs": [],
   "source": [
    "for i, s in enumerate(loader):\n",
    "    if i > 10:\n",
    "        break\n",
    "    img = s['image'].squeeze().permute(1, 2, 0)\n",
    "    img = denormalize(img)\n",
    "    plt.figure()\n",
    "    plt.imshow(img)\n"
   ]
  },
  {
   "cell_type": "code",
   "execution_count": null,
   "metadata": {},
   "outputs": [],
   "source": []
  }
 ],
 "metadata": {
  "kernelspec": {
   "display_name": "Python 3",
   "language": "python",
   "name": "python3"
  },
  "language_info": {
   "codemirror_mode": {
    "name": "ipython",
    "version": 3
   },
   "file_extension": ".py",
   "mimetype": "text/x-python",
   "name": "python",
   "nbconvert_exporter": "python",
   "pygments_lexer": "ipython3",
   "version": "3.6.5"
  }
 },
 "nbformat": 4,
 "nbformat_minor": 2
}
